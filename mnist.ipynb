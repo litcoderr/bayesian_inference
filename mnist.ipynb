{
 "cells": [
  {
   "cell_type": "code",
   "execution_count": 1,
   "metadata": {},
   "outputs": [],
   "source": [
    "\n",
    "from data.mnist import MNIST\n",
    "from model import softmax\n",
    "import numpy as np"
   ]
  },
  {
   "cell_type": "code",
   "execution_count": 2,
   "metadata": {},
   "outputs": [],
   "source": [
    "mnist = MNIST()"
   ]
  },
  {
   "cell_type": "code",
   "execution_count": 3,
   "metadata": {},
   "outputs": [],
   "source": [
    "batchsize = 10000\n",
    "mu = 0\n",
    "sigma = 1"
   ]
  },
  {
   "cell_type": "code",
   "execution_count": 4,
   "metadata": {},
   "outputs": [
    {
     "name": "stdout",
     "output_type": "stream",
     "text": [
      "y_dist: (594, 10)\n",
      "y_sample: (594, 10000, 10)\n"
     ]
    }
   ],
   "source": [
    "y_dist, y_sample = softmax.infer(\n",
    "    x = mnist.X_test,\n",
    "    X = mnist.X_train,\n",
    "    Y = mnist.Y_train,\n",
    "    B = batchsize,\n",
    "    M = mnist.get_nclasses(),\n",
    "    mu = mu,\n",
    "    sigma = sigma)\n",
    "print(f\"y_dist: {y_dist.shape}\")\n",
    "print(f\"y_sample: {y_sample.shape}\")"
   ]
  }
 ],
 "metadata": {
  "kernelspec": {
   "display_name": "Python 3",
   "language": "python",
   "name": "python3"
  },
  "language_info": {
   "codemirror_mode": {
    "name": "ipython",
    "version": 3
   },
   "file_extension": ".py",
   "mimetype": "text/x-python",
   "name": "python",
   "nbconvert_exporter": "python",
   "pygments_lexer": "ipython3",
   "version": "3.8.10"
  },
  "orig_nbformat": 4
 },
 "nbformat": 4,
 "nbformat_minor": 2
}
